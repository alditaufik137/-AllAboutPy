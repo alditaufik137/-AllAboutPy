{
  "nbformat": 4,
  "nbformat_minor": 0,
  "metadata": {
    "colab": {
      "name": "PI (Index Nikkei 225 with LSTM)",
      "provenance": [],
      "collapsed_sections": [],
      "authorship_tag": "ABX9TyM9Wyf609HQ7/1B/mAFw6DI",
      "include_colab_link": true
    },
    "kernelspec": {
      "name": "python3",
      "display_name": "Python 3"
    },
    "language_info": {
      "name": "python"
    }
  },
  "cells": [
    {
      "cell_type": "markdown",
      "metadata": {
        "id": "view-in-github",
        "colab_type": "text"
      },
      "source": [
        "<a href=\"https://colab.research.google.com/github/alditaufik137/-AllAboutPy/blob/master/PI_(Index_Nikkei_225_with_LSTM).ipynb\" target=\"_parent\"><img src=\"https://colab.research.google.com/assets/colab-badge.svg\" alt=\"Open In Colab\"/></a>"
      ]
    },
    {
      "cell_type": "markdown",
      "metadata": {
        "id": "d4wMB24Xd64a"
      },
      "source": [
        "\n",
        "\n",
        "# **IMPORT LIBRARY**\n",
        "\n"
      ]
    },
    {
      "cell_type": "code",
      "metadata": {
        "id": "cK44VK8VGnmJ"
      },
      "source": [
        "#library preprocessing\n",
        "import numpy as np # library untuk mengubah gambar menjadi array\n",
        "import pandas as pd # library untuk mengolah data tabel\n",
        "from sklearn.preprocessing import MinMaxScaler # library untuk normalisasi\n",
        "import zipfile, os # library untuk mendownload zipfile\n",
        "\n",
        "#library visualisasi\n",
        "import matplotlib.pyplot as plt # Library untuk visualisai plot\n",
        "import seaborn as sns # Library untuk visualisai plot lebih bagus\n",
        "\n",
        "#library model\n",
        "import tensorflow as tf # library machine learning dari google untuk memproses dataset\n",
        "from tensorflow.keras.optimizers import RMSprop # Mengimport optimizer untuk model\n",
        "from keras.callbacks import ModelCheckpoint # Callback untuk menyimpan model\n",
        "import keras.backend as K # Untuk membuat fungsi R2 Keras\n",
        "\n",
        "#library perhitungan\n",
        "from sklearn.metrics import mean_squared_error # Untuk menggunakan loss mean squared error pada model\n",
        "from sklearn.metrics import r2_score # Untuk menghitung koefisien determinasi"
      ],
      "execution_count": null,
      "outputs": []
    },
    {
      "cell_type": "markdown",
      "metadata": {
        "id": "DNPF_oSCd6Pz"
      },
      "source": [
        "#**Import Dataset**\n",
        "Mendownload Dataset Index Nikkei 225 yang diambil dari Yahoo! finance https://finance.yahoo.com/quote/%5EN225?p=^N225 dan telah dimasukkan ke dalam Dropbox\n",
        "\n",
        "Indeks Nikkei 225 merupakan indeks utama di bursa Tokyo dan dipandang sebagai salah satu barometer penting perekonomian dan pasar saham Jepang. Indeks Nikkei disebut-sebut sama seperti indeks Dow Jones. Indeks ini merupakan indeks tertua di kawasan Asia yang mulai muncul sekitar pada tahun 1950. indeks Nikkei diciptakan oleh surat kabar ekonomi Jepang Nihon Keizai Shimbun."
      ]
    },
    {
      "cell_type": "code",
      "metadata": {
        "colab": {
          "base_uri": "https://localhost:8080/"
        },
        "id": "sQ7PZiwtIk4g",
        "outputId": "8072056b-a05d-40ef-c7b4-c611bcfffa46"
      },
      "source": [
        "# Mendownload dataset menggunakan wget\n",
        "\n",
        "!wget --no-check-certificate \\\n",
        "  https://dl.dropbox.com/s/vsbkkbr52qg3bkr/N225.zip?dl=0 \\\n",
        "  -O /tmp/N225.zip"
      ],
      "execution_count": null,
      "outputs": [
        {
          "output_type": "stream",
          "text": [
            "--2021-07-16 04:16:31--  https://dl.dropbox.com/s/vsbkkbr52qg3bkr/N225.zip?dl=0\n",
            "Resolving dl.dropbox.com (dl.dropbox.com)... 162.125.5.15, 2620:100:601d:15::a27d:50f\n",
            "Connecting to dl.dropbox.com (dl.dropbox.com)|162.125.5.15|:443... connected.\n",
            "HTTP request sent, awaiting response... 302 Found\n",
            "Location: https://dl.dropboxusercontent.com/s/vsbkkbr52qg3bkr/N225.zip?dl=0 [following]\n",
            "--2021-07-16 04:16:31--  https://dl.dropboxusercontent.com/s/vsbkkbr52qg3bkr/N225.zip?dl=0\n",
            "Resolving dl.dropboxusercontent.com (dl.dropboxusercontent.com)... 162.125.5.15, 2620:100:601d:15::a27d:50f\n",
            "Connecting to dl.dropboxusercontent.com (dl.dropboxusercontent.com)|162.125.5.15|:443... connected.\n",
            "HTTP request sent, awaiting response... 200 OK\n",
            "Length: 228168 (223K) [application/zip]\n",
            "Saving to: ‘/tmp/N225.zip’\n",
            "\n",
            "/tmp/N225.zip       100%[===================>] 222.82K  --.-KB/s    in 0.06s   \n",
            "\n",
            "2021-07-16 04:16:32 (3.54 MB/s) - ‘/tmp/N225.zip’ saved [228168/228168]\n",
            "\n"
          ],
          "name": "stdout"
        }
      ]
    },
    {
      "cell_type": "markdown",
      "metadata": {
        "id": "ZsHP1hyneuKw"
      },
      "source": [
        "# **Data Prepocessing**"
      ]
    },
    {
      "cell_type": "code",
      "metadata": {
        "id": "h4OOlUCiIrBq"
      },
      "source": [
        "# Mengekstrak folder zip yang telah terdownload\n",
        "local_zip = '/tmp/N225.zip'\n",
        "zip_ref = zipfile.ZipFile(local_zip, 'r')\n",
        "zip_ref.extractall('/tmp')\n",
        "zip_ref.close()\n",
        " \n",
        "base_dir = '/tmp/N225'"
      ],
      "execution_count": null,
      "outputs": []
    },
    {
      "cell_type": "code",
      "metadata": {
        "colab": {
          "base_uri": "https://localhost:8080/"
        },
        "id": "g3A0N5FWJGkk",
        "outputId": "2f3c0146-4326-4bf3-8786-ff779dcef6e6"
      },
      "source": [
        "df = pd.read_csv('/tmp/N225.csv')\n",
        "print(df.shape)\n",
        "print(df.dtypes)"
      ],
      "execution_count": null,
      "outputs": [
        {
          "output_type": "stream",
          "text": [
            "(14528, 7)\n",
            "Date          object\n",
            "Open         float64\n",
            "High         float64\n",
            "Low          float64\n",
            "Close        float64\n",
            "Adj Close    float64\n",
            "Volume       float64\n",
            "dtype: object\n"
          ],
          "name": "stdout"
        }
      ]
    },
    {
      "cell_type": "markdown",
      "metadata": {
        "id": "mNpIMraoe1z1"
      },
      "source": [
        "Menampilkan 5 Data teratas dari table"
      ]
    },
    {
      "cell_type": "code",
      "metadata": {
        "colab": {
          "base_uri": "https://localhost:8080/",
          "height": 204
        },
        "id": "6hzEhKDvJYJs",
        "outputId": "1244ebc1-0827-40cf-c66a-b5f0feb6b27f"
      },
      "source": [
        "df.head()"
      ],
      "execution_count": null,
      "outputs": [
        {
          "output_type": "execute_result",
          "data": {
            "text/html": [
              "<div>\n",
              "<style scoped>\n",
              "    .dataframe tbody tr th:only-of-type {\n",
              "        vertical-align: middle;\n",
              "    }\n",
              "\n",
              "    .dataframe tbody tr th {\n",
              "        vertical-align: top;\n",
              "    }\n",
              "\n",
              "    .dataframe thead th {\n",
              "        text-align: right;\n",
              "    }\n",
              "</style>\n",
              "<table border=\"1\" class=\"dataframe\">\n",
              "  <thead>\n",
              "    <tr style=\"text-align: right;\">\n",
              "      <th></th>\n",
              "      <th>Date</th>\n",
              "      <th>Open</th>\n",
              "      <th>High</th>\n",
              "      <th>Low</th>\n",
              "      <th>Close</th>\n",
              "      <th>Adj Close</th>\n",
              "      <th>Volume</th>\n",
              "    </tr>\n",
              "  </thead>\n",
              "  <tbody>\n",
              "    <tr>\n",
              "      <th>0</th>\n",
              "      <td>1965-01-05</td>\n",
              "      <td>1257.719971</td>\n",
              "      <td>1257.719971</td>\n",
              "      <td>1257.719971</td>\n",
              "      <td>1257.719971</td>\n",
              "      <td>1257.719971</td>\n",
              "      <td>0.0</td>\n",
              "    </tr>\n",
              "    <tr>\n",
              "      <th>1</th>\n",
              "      <td>1965-01-06</td>\n",
              "      <td>1263.989990</td>\n",
              "      <td>1263.989990</td>\n",
              "      <td>1263.989990</td>\n",
              "      <td>1263.989990</td>\n",
              "      <td>1263.989990</td>\n",
              "      <td>0.0</td>\n",
              "    </tr>\n",
              "    <tr>\n",
              "      <th>2</th>\n",
              "      <td>1965-01-07</td>\n",
              "      <td>1274.270020</td>\n",
              "      <td>1274.270020</td>\n",
              "      <td>1274.270020</td>\n",
              "      <td>1274.270020</td>\n",
              "      <td>1274.270020</td>\n",
              "      <td>0.0</td>\n",
              "    </tr>\n",
              "    <tr>\n",
              "      <th>3</th>\n",
              "      <td>1965-01-08</td>\n",
              "      <td>1286.430054</td>\n",
              "      <td>1286.430054</td>\n",
              "      <td>1286.430054</td>\n",
              "      <td>1286.430054</td>\n",
              "      <td>1286.430054</td>\n",
              "      <td>0.0</td>\n",
              "    </tr>\n",
              "    <tr>\n",
              "      <th>4</th>\n",
              "      <td>1965-01-11</td>\n",
              "      <td>NaN</td>\n",
              "      <td>NaN</td>\n",
              "      <td>NaN</td>\n",
              "      <td>NaN</td>\n",
              "      <td>NaN</td>\n",
              "      <td>NaN</td>\n",
              "    </tr>\n",
              "  </tbody>\n",
              "</table>\n",
              "</div>"
            ],
            "text/plain": [
              "         Date         Open         High  ...        Close    Adj Close  Volume\n",
              "0  1965-01-05  1257.719971  1257.719971  ...  1257.719971  1257.719971     0.0\n",
              "1  1965-01-06  1263.989990  1263.989990  ...  1263.989990  1263.989990     0.0\n",
              "2  1965-01-07  1274.270020  1274.270020  ...  1274.270020  1274.270020     0.0\n",
              "3  1965-01-08  1286.430054  1286.430054  ...  1286.430054  1286.430054     0.0\n",
              "4  1965-01-11          NaN          NaN  ...          NaN          NaN     NaN\n",
              "\n",
              "[5 rows x 7 columns]"
            ]
          },
          "metadata": {
            "tags": []
          },
          "execution_count": 42
        }
      ]
    },
    {
      "cell_type": "markdown",
      "metadata": {
        "id": "5POOMxGFe8wE"
      },
      "source": [
        "Menampilkan 5 Data terbawah dari table"
      ]
    },
    {
      "cell_type": "code",
      "metadata": {
        "colab": {
          "base_uri": "https://localhost:8080/",
          "height": 204
        },
        "id": "iwqKpyyfJaIo",
        "outputId": "12098dd5-efe7-43a0-d7d0-701791ae3109"
      },
      "source": [
        "df.tail()"
      ],
      "execution_count": null,
      "outputs": [
        {
          "output_type": "execute_result",
          "data": {
            "text/html": [
              "<div>\n",
              "<style scoped>\n",
              "    .dataframe tbody tr th:only-of-type {\n",
              "        vertical-align: middle;\n",
              "    }\n",
              "\n",
              "    .dataframe tbody tr th {\n",
              "        vertical-align: top;\n",
              "    }\n",
              "\n",
              "    .dataframe thead th {\n",
              "        text-align: right;\n",
              "    }\n",
              "</style>\n",
              "<table border=\"1\" class=\"dataframe\">\n",
              "  <thead>\n",
              "    <tr style=\"text-align: right;\">\n",
              "      <th></th>\n",
              "      <th>Date</th>\n",
              "      <th>Open</th>\n",
              "      <th>High</th>\n",
              "      <th>Low</th>\n",
              "      <th>Close</th>\n",
              "      <th>Adj Close</th>\n",
              "      <th>Volume</th>\n",
              "    </tr>\n",
              "  </thead>\n",
              "  <tbody>\n",
              "    <tr>\n",
              "      <th>14523</th>\n",
              "      <td>2021-07-06</td>\n",
              "      <td>28677.949219</td>\n",
              "      <td>28748.230469</td>\n",
              "      <td>28587.609375</td>\n",
              "      <td>28643.210938</td>\n",
              "      <td>28643.210938</td>\n",
              "      <td>41700000.0</td>\n",
              "    </tr>\n",
              "    <tr>\n",
              "      <th>14524</th>\n",
              "      <td>2021-07-07</td>\n",
              "      <td>28262.400391</td>\n",
              "      <td>28434.990234</td>\n",
              "      <td>28161.750000</td>\n",
              "      <td>28366.949219</td>\n",
              "      <td>28366.949219</td>\n",
              "      <td>60300000.0</td>\n",
              "    </tr>\n",
              "    <tr>\n",
              "      <th>14525</th>\n",
              "      <td>2021-07-08</td>\n",
              "      <td>28332.630859</td>\n",
              "      <td>28366.759766</td>\n",
              "      <td>28118.029297</td>\n",
              "      <td>28118.029297</td>\n",
              "      <td>28118.029297</td>\n",
              "      <td>62200000.0</td>\n",
              "    </tr>\n",
              "    <tr>\n",
              "      <th>14526</th>\n",
              "      <td>2021-07-09</td>\n",
              "      <td>27739.419922</td>\n",
              "      <td>28000.019531</td>\n",
              "      <td>27419.400391</td>\n",
              "      <td>27940.419922</td>\n",
              "      <td>27940.419922</td>\n",
              "      <td>82300000.0</td>\n",
              "    </tr>\n",
              "    <tr>\n",
              "      <th>14527</th>\n",
              "      <td>2021-07-12</td>\n",
              "      <td>28412.699219</td>\n",
              "      <td>28595.119141</td>\n",
              "      <td>28405.599609</td>\n",
              "      <td>28580.779297</td>\n",
              "      <td>28580.779297</td>\n",
              "      <td>0.0</td>\n",
              "    </tr>\n",
              "  </tbody>\n",
              "</table>\n",
              "</div>"
            ],
            "text/plain": [
              "             Date          Open  ...     Adj Close      Volume\n",
              "14523  2021-07-06  28677.949219  ...  28643.210938  41700000.0\n",
              "14524  2021-07-07  28262.400391  ...  28366.949219  60300000.0\n",
              "14525  2021-07-08  28332.630859  ...  28118.029297  62200000.0\n",
              "14526  2021-07-09  27739.419922  ...  27940.419922  82300000.0\n",
              "14527  2021-07-12  28412.699219  ...  28580.779297         0.0\n",
              "\n",
              "[5 rows x 7 columns]"
            ]
          },
          "metadata": {
            "tags": []
          },
          "execution_count": 43
        }
      ]
    },
    {
      "cell_type": "code",
      "metadata": {
        "colab": {
          "base_uri": "https://localhost:8080/"
        },
        "id": "A7SJeIpRJcMh",
        "outputId": "0fdf07d3-aec8-48cb-962b-dd3d7adf44ea"
      },
      "source": [
        "# Melihat informasi dari table dan terdapat 14.527 sample\n",
        "df.info()"
      ],
      "execution_count": null,
      "outputs": [
        {
          "output_type": "stream",
          "text": [
            "<class 'pandas.core.frame.DataFrame'>\n",
            "RangeIndex: 14528 entries, 0 to 14527\n",
            "Data columns (total 7 columns):\n",
            " #   Column     Non-Null Count  Dtype  \n",
            "---  ------     --------------  -----  \n",
            " 0   Date       14528 non-null  object \n",
            " 1   Open       13902 non-null  float64\n",
            " 2   High       13902 non-null  float64\n",
            " 3   Low        13902 non-null  float64\n",
            " 4   Close      13902 non-null  float64\n",
            " 5   Adj Close  13902 non-null  float64\n",
            " 6   Volume     13902 non-null  float64\n",
            "dtypes: float64(6), object(1)\n",
            "memory usage: 794.6+ KB\n"
          ],
          "name": "stdout"
        }
      ]
    },
    {
      "cell_type": "code",
      "metadata": {
        "colab": {
          "base_uri": "https://localhost:8080/"
        },
        "id": "fSgm3M24JejA",
        "outputId": "f9f012a6-539a-4b5b-bea1-914c0d47e9e2"
      },
      "source": [
        "# Melihat jumlah sampel yang NAN (tidak ada nilainya)\n",
        "df.isna().sum()"
      ],
      "execution_count": null,
      "outputs": [
        {
          "output_type": "execute_result",
          "data": {
            "text/plain": [
              "Date           0\n",
              "Open         626\n",
              "High         626\n",
              "Low          626\n",
              "Close        626\n",
              "Adj Close    626\n",
              "Volume       626\n",
              "dtype: int64"
            ]
          },
          "metadata": {
            "tags": []
          },
          "execution_count": 45
        }
      ]
    },
    {
      "cell_type": "code",
      "metadata": {
        "colab": {
          "base_uri": "https://localhost:8080/"
        },
        "id": "hhdc7FrrJhKp",
        "outputId": "fd866eaa-8e7f-44f5-d3c3-daebf2d57e25"
      },
      "source": [
        "# Menghapus sample NaN\n",
        "df=df.dropna()\n",
        "print(df)\n",
        "print(df.shape)"
      ],
      "execution_count": null,
      "outputs": [
        {
          "output_type": "stream",
          "text": [
            "             Date          Open  ...     Adj Close      Volume\n",
            "0      1965-01-05   1257.719971  ...   1257.719971         0.0\n",
            "1      1965-01-06   1263.989990  ...   1263.989990         0.0\n",
            "2      1965-01-07   1274.270020  ...   1274.270020         0.0\n",
            "3      1965-01-08   1286.430054  ...   1286.430054         0.0\n",
            "5      1965-01-12   1288.540039  ...   1288.540039         0.0\n",
            "...           ...           ...  ...           ...         ...\n",
            "14523  2021-07-06  28677.949219  ...  28643.210938  41700000.0\n",
            "14524  2021-07-07  28262.400391  ...  28366.949219  60300000.0\n",
            "14525  2021-07-08  28332.630859  ...  28118.029297  62200000.0\n",
            "14526  2021-07-09  27739.419922  ...  27940.419922  82300000.0\n",
            "14527  2021-07-12  28412.699219  ...  28580.779297         0.0\n",
            "\n",
            "[13902 rows x 7 columns]\n",
            "(13902, 7)\n"
          ],
          "name": "stdout"
        }
      ]
    },
    {
      "cell_type": "code",
      "metadata": {
        "colab": {
          "base_uri": "https://localhost:8080/",
          "height": 204
        },
        "id": "tW7Z932MJmd9",
        "outputId": "330bd7ab-2f42-429b-ab09-dddfbb008888"
      },
      "source": [
        "# Merubah tipe data kolom 'Date' menjadi 'datetime'\n",
        "df['Date'] = pd.to_datetime(df['Date'])\n",
        "df.head()"
      ],
      "execution_count": null,
      "outputs": [
        {
          "output_type": "execute_result",
          "data": {
            "text/html": [
              "<div>\n",
              "<style scoped>\n",
              "    .dataframe tbody tr th:only-of-type {\n",
              "        vertical-align: middle;\n",
              "    }\n",
              "\n",
              "    .dataframe tbody tr th {\n",
              "        vertical-align: top;\n",
              "    }\n",
              "\n",
              "    .dataframe thead th {\n",
              "        text-align: right;\n",
              "    }\n",
              "</style>\n",
              "<table border=\"1\" class=\"dataframe\">\n",
              "  <thead>\n",
              "    <tr style=\"text-align: right;\">\n",
              "      <th></th>\n",
              "      <th>Date</th>\n",
              "      <th>Open</th>\n",
              "      <th>High</th>\n",
              "      <th>Low</th>\n",
              "      <th>Close</th>\n",
              "      <th>Adj Close</th>\n",
              "      <th>Volume</th>\n",
              "    </tr>\n",
              "  </thead>\n",
              "  <tbody>\n",
              "    <tr>\n",
              "      <th>0</th>\n",
              "      <td>1965-01-05</td>\n",
              "      <td>1257.719971</td>\n",
              "      <td>1257.719971</td>\n",
              "      <td>1257.719971</td>\n",
              "      <td>1257.719971</td>\n",
              "      <td>1257.719971</td>\n",
              "      <td>0.0</td>\n",
              "    </tr>\n",
              "    <tr>\n",
              "      <th>1</th>\n",
              "      <td>1965-01-06</td>\n",
              "      <td>1263.989990</td>\n",
              "      <td>1263.989990</td>\n",
              "      <td>1263.989990</td>\n",
              "      <td>1263.989990</td>\n",
              "      <td>1263.989990</td>\n",
              "      <td>0.0</td>\n",
              "    </tr>\n",
              "    <tr>\n",
              "      <th>2</th>\n",
              "      <td>1965-01-07</td>\n",
              "      <td>1274.270020</td>\n",
              "      <td>1274.270020</td>\n",
              "      <td>1274.270020</td>\n",
              "      <td>1274.270020</td>\n",
              "      <td>1274.270020</td>\n",
              "      <td>0.0</td>\n",
              "    </tr>\n",
              "    <tr>\n",
              "      <th>3</th>\n",
              "      <td>1965-01-08</td>\n",
              "      <td>1286.430054</td>\n",
              "      <td>1286.430054</td>\n",
              "      <td>1286.430054</td>\n",
              "      <td>1286.430054</td>\n",
              "      <td>1286.430054</td>\n",
              "      <td>0.0</td>\n",
              "    </tr>\n",
              "    <tr>\n",
              "      <th>5</th>\n",
              "      <td>1965-01-12</td>\n",
              "      <td>1288.540039</td>\n",
              "      <td>1288.540039</td>\n",
              "      <td>1288.540039</td>\n",
              "      <td>1288.540039</td>\n",
              "      <td>1288.540039</td>\n",
              "      <td>0.0</td>\n",
              "    </tr>\n",
              "  </tbody>\n",
              "</table>\n",
              "</div>"
            ],
            "text/plain": [
              "        Date         Open         High  ...        Close    Adj Close  Volume\n",
              "0 1965-01-05  1257.719971  1257.719971  ...  1257.719971  1257.719971     0.0\n",
              "1 1965-01-06  1263.989990  1263.989990  ...  1263.989990  1263.989990     0.0\n",
              "2 1965-01-07  1274.270020  1274.270020  ...  1274.270020  1274.270020     0.0\n",
              "3 1965-01-08  1286.430054  1286.430054  ...  1286.430054  1286.430054     0.0\n",
              "5 1965-01-12  1288.540039  1288.540039  ...  1288.540039  1288.540039     0.0\n",
              "\n",
              "[5 rows x 7 columns]"
            ]
          },
          "metadata": {
            "tags": []
          },
          "execution_count": 47
        }
      ]
    },
    {
      "cell_type": "markdown",
      "metadata": {
        "id": "rvnRW9W4fIZ1"
      },
      "source": [
        "#**Visualisasi data Index Nikkei 225**\n",
        "Menampilkan keseluruhan harga pembukaan Nikkei 225 dengan plot visualisasi agar dapat dimengerti oleh orang pembaca\n",
        "\n"
      ]
    },
    {
      "cell_type": "code",
      "metadata": {
        "colab": {
          "base_uri": "https://localhost:8080/",
          "height": 464
        },
        "id": "7tTEzNFKJoVN",
        "outputId": "6a3b9850-b2b0-43e9-a7ff-3223460d806e"
      },
      "source": [
        "# Menampilkan visualisasi menggunakan matplotlib dan seaborn\n",
        "plt.figure(figsize=(15,7))\n",
        "sns.set(style=\"whitegrid\")\n",
        "plt.title('Harga Open Index Nikkei 225 per Tahun')\n",
        "sns.lineplot(data=df['Open'], label='Open',color='skyblue')"
      ],
      "execution_count": null,
      "outputs": [
        {
          "output_type": "execute_result",
          "data": {
            "text/plain": [
              "<matplotlib.axes._subplots.AxesSubplot at 0x7f78709c4e90>"
            ]
          },
          "metadata": {
            "tags": []
          },
          "execution_count": 48
        },
        {
          "output_type": "display_data",
          "data": {
            "image/png": "[encoded data removed]",
            "text/plain": [
              "<Figure size 1080x504 with 1 Axes>"
            ]
          },
          "metadata": {
            "tags": []
          }
        }
      ]
    },
    {
      "cell_type": "markdown",
      "metadata": {
        "id": "DRhufLoFd5E7"
      },
      "source": [
        ""
      ]
    },
    {
      "cell_type": "code",
      "metadata": {
        "colab": {
          "base_uri": "https://localhost:8080/"
        },
        "id": "fWuU_KjjJsHJ",
        "outputId": "e56afcd9-3a99-4d77-9755-24fb2deead2b"
      },
      "source": [
        "# Membuat variabel duplikat yang akan digunakan untuk preprocessing\n",
        "df2=df.copy()\n",
        "df2.shape"
      ],
      "execution_count": null,
      "outputs": [
        {
          "output_type": "execute_result",
          "data": {
            "text/plain": [
              "(13902, 7)"
            ]
          },
          "metadata": {
            "tags": []
          },
          "execution_count": 49
        }
      ]
    },
    {
      "cell_type": "markdown",
      "metadata": {
        "id": "vqcacxUTfUlT"
      },
      "source": [
        "#**Pembagian Data Train dan Data Test**\n",
        "Membagi Dataset dengan rasio 80% Data Train dan 20% Data Test\n"
      ]
    },
    {
      "cell_type": "code",
      "metadata": {
        "colab": {
          "base_uri": "https://localhost:8080/"
        },
        "id": "sfBKfpydJv4_",
        "outputId": "d7dc389f-ce70-4878-a60a-56d388095384"
      },
      "source": [
        "df2.reset_index(drop=True,inplace=True)\n",
        "df_train = df2.loc[:int(df2.shape[0]*0.8),:]\n",
        "df_test = df2.loc[int(df2.shape[0]*0.8):,:]\n",
        "df2.shape"
      ],
      "execution_count": null,
      "outputs": [
        {
          "output_type": "execute_result",
          "data": {
            "text/plain": [
              "(13902, 7)"
            ]
          },
          "metadata": {
            "tags": []
          },
          "execution_count": 50
        }
      ]
    },
    {
      "cell_type": "code",
      "metadata": {
        "colab": {
          "base_uri": "https://localhost:8080/"
        },
        "id": "84opPqvBJzdP",
        "outputId": "bd13cd7b-e962-4d87-ede3-35047d45d5d3"
      },
      "source": [
        "df_train.shape"
      ],
      "execution_count": null,
      "outputs": [
        {
          "output_type": "execute_result",
          "data": {
            "text/plain": [
              "(11122, 7)"
            ]
          },
          "metadata": {
            "tags": []
          },
          "execution_count": 51
        }
      ]
    },
    {
      "cell_type": "code",
      "metadata": {
        "colab": {
          "base_uri": "https://localhost:8080/"
        },
        "id": "2_GFiU56J1Zp",
        "outputId": "02ae03a1-59eb-4808-d38a-e857ccdd692c"
      },
      "source": [
        "df_test.shape\n"
      ],
      "execution_count": null,
      "outputs": [
        {
          "output_type": "execute_result",
          "data": {
            "text/plain": [
              "(2781, 7)"
            ]
          },
          "metadata": {
            "tags": []
          },
          "execution_count": 52
        }
      ]
    },
    {
      "cell_type": "code",
      "metadata": {
        "colab": {
          "base_uri": "https://localhost:8080/",
          "height": 464
        },
        "id": "tfoqzVD5J33t",
        "outputId": "608eead6-fd6b-4dd0-d769-4c905127e57c"
      },
      "source": [
        "# Menampilkan pembagian dataset dengan plot visualisasi\n",
        "plt.figure(figsize=(15,7))\n",
        "sns.set(style=\"whitegrid\")\n",
        "plt.title('Data train vs Data test')\n",
        "sns.lineplot(data=df_train['Open'], label='train',color='skyblue')\n",
        "sns.lineplot(data=df_test['Open'], label='test',color='plum')"
      ],
      "execution_count": null,
      "outputs": [
        {
          "output_type": "execute_result",
          "data": {
            "text/plain": [
              "<matplotlib.axes._subplots.AxesSubplot at 0x7f786cb9ea50>"
            ]
          },
          "metadata": {
            "tags": []
          },
          "execution_count": 53
        },
        {
          "output_type": "display_data",
          "data": {
            "image/png": "[encoded data removed]",
            "text/plain": [
              "<Figure size 1080x504 with 1 Axes>"
            ]
          },
          "metadata": {
            "tags": []
          }
        }
      ]
    },
    {
      "cell_type": "code",
      "metadata": {
        "colab": {
          "base_uri": "https://localhost:8080/",
          "height": 419
        },
        "id": "YxaBO4ZaJ6qD",
        "outputId": "92e99ecc-1d50-4825-853a-4dbcf686776f"
      },
      "source": [
        "df_train"
      ],
      "execution_count": null,
      "outputs": [
        {
          "output_type": "execute_result",
          "data": {
            "text/html": [
              "<div>\n",
              "<style scoped>\n",
              "    .dataframe tbody tr th:only-of-type {\n",
              "        vertical-align: middle;\n",
              "    }\n",
              "\n",
              "    .dataframe tbody tr th {\n",
              "        vertical-align: top;\n",
              "    }\n",
              "\n",
              "    .dataframe thead th {\n",
              "        text-align: right;\n",
              "    }\n",
              "</style>\n",
              "<table border=\"1\" class=\"dataframe\">\n",
              "  <thead>\n",
              "    <tr style=\"text-align: right;\">\n",
              "      <th></th>\n",
              "      <th>Date</th>\n",
              "      <th>Open</th>\n",
              "      <th>High</th>\n",
              "      <th>Low</th>\n",
              "      <th>Close</th>\n",
              "      <th>Adj Close</th>\n",
              "      <th>Volume</th>\n",
              "    </tr>\n",
              "  </thead>\n",
              "  <tbody>\n",
              "    <tr>\n",
              "      <th>0</th>\n",
              "      <td>1965-01-05</td>\n",
              "      <td>1257.719971</td>\n",
              "      <td>1257.719971</td>\n",
              "      <td>1257.719971</td>\n",
              "      <td>1257.719971</td>\n",
              "      <td>1257.719971</td>\n",
              "      <td>0.0</td>\n",
              "    </tr>\n",
              "    <tr>\n",
              "      <th>1</th>\n",
              "      <td>1965-01-06</td>\n",
              "      <td>1263.989990</td>\n",
              "      <td>1263.989990</td>\n",
              "      <td>1263.989990</td>\n",
              "      <td>1263.989990</td>\n",
              "      <td>1263.989990</td>\n",
              "      <td>0.0</td>\n",
              "    </tr>\n",
              "    <tr>\n",
              "      <th>2</th>\n",
              "      <td>1965-01-07</td>\n",
              "      <td>1274.270020</td>\n",
              "      <td>1274.270020</td>\n",
              "      <td>1274.270020</td>\n",
              "      <td>1274.270020</td>\n",
              "      <td>1274.270020</td>\n",
              "      <td>0.0</td>\n",
              "    </tr>\n",
              "    <tr>\n",
              "      <th>3</th>\n",
              "      <td>1965-01-08</td>\n",
              "      <td>1286.430054</td>\n",
              "      <td>1286.430054</td>\n",
              "      <td>1286.430054</td>\n",
              "      <td>1286.430054</td>\n",
              "      <td>1286.430054</td>\n",
              "      <td>0.0</td>\n",
              "    </tr>\n",
              "    <tr>\n",
              "      <th>4</th>\n",
              "      <td>1965-01-12</td>\n",
              "      <td>1288.540039</td>\n",
              "      <td>1288.540039</td>\n",
              "      <td>1288.540039</td>\n",
              "      <td>1288.540039</td>\n",
              "      <td>1288.540039</td>\n",
              "      <td>0.0</td>\n",
              "    </tr>\n",
              "    <tr>\n",
              "      <th>...</th>\n",
              "      <td>...</td>\n",
              "      <td>...</td>\n",
              "      <td>...</td>\n",
              "      <td>...</td>\n",
              "      <td>...</td>\n",
              "      <td>...</td>\n",
              "      <td>...</td>\n",
              "    </tr>\n",
              "    <tr>\n",
              "      <th>11117</th>\n",
              "      <td>2010-02-25</td>\n",
              "      <td>10256.099609</td>\n",
              "      <td>10267.429688</td>\n",
              "      <td>10087.209961</td>\n",
              "      <td>10101.959961</td>\n",
              "      <td>10101.959961</td>\n",
              "      <td>128200.0</td>\n",
              "    </tr>\n",
              "    <tr>\n",
              "      <th>11118</th>\n",
              "      <td>2010-02-26</td>\n",
              "      <td>10107.080078</td>\n",
              "      <td>10171.219727</td>\n",
              "      <td>10085.129883</td>\n",
              "      <td>10126.030273</td>\n",
              "      <td>10126.030273</td>\n",
              "      <td>113200.0</td>\n",
              "    </tr>\n",
              "    <tr>\n",
              "      <th>11119</th>\n",
              "      <td>2010-03-01</td>\n",
              "      <td>10128.730469</td>\n",
              "      <td>10215.150391</td>\n",
              "      <td>10116.860352</td>\n",
              "      <td>10172.059570</td>\n",
              "      <td>10172.059570</td>\n",
              "      <td>108400.0</td>\n",
              "    </tr>\n",
              "    <tr>\n",
              "      <th>11120</th>\n",
              "      <td>2010-03-02</td>\n",
              "      <td>10199.190430</td>\n",
              "      <td>10238.959961</td>\n",
              "      <td>10150.299805</td>\n",
              "      <td>10221.839844</td>\n",
              "      <td>10221.839844</td>\n",
              "      <td>104000.0</td>\n",
              "    </tr>\n",
              "    <tr>\n",
              "      <th>11121</th>\n",
              "      <td>2010-03-03</td>\n",
              "      <td>10193.950195</td>\n",
              "      <td>10274.089844</td>\n",
              "      <td>10186.679688</td>\n",
              "      <td>10253.139648</td>\n",
              "      <td>10253.139648</td>\n",
              "      <td>120600.0</td>\n",
              "    </tr>\n",
              "  </tbody>\n",
              "</table>\n",
              "<p>11122 rows × 7 columns</p>\n",
              "</div>"
            ],
            "text/plain": [
              "            Date          Open  ...     Adj Close    Volume\n",
              "0     1965-01-05   1257.719971  ...   1257.719971       0.0\n",
              "1     1965-01-06   1263.989990  ...   1263.989990       0.0\n",
              "2     1965-01-07   1274.270020  ...   1274.270020       0.0\n",
              "3     1965-01-08   1286.430054  ...   1286.430054       0.0\n",
              "4     1965-01-12   1288.540039  ...   1288.540039       0.0\n",
              "...          ...           ...  ...           ...       ...\n",
              "11117 2010-02-25  10256.099609  ...  10101.959961  128200.0\n",
              "11118 2010-02-26  10107.080078  ...  10126.030273  113200.0\n",
              "11119 2010-03-01  10128.730469  ...  10172.059570  108400.0\n",
              "11120 2010-03-02  10199.190430  ...  10221.839844  104000.0\n",
              "11121 2010-03-03  10193.950195  ...  10253.139648  120600.0\n",
              "\n",
              "[11122 rows x 7 columns]"
            ]
          },
          "metadata": {
            "tags": []
          },
          "execution_count": 54
        }
      ]
    },
    {
      "cell_type": "code",
      "metadata": {
        "colab": {
          "base_uri": "https://localhost:8080/",
          "height": 419
        },
        "id": "YROPMLnnJ-Hx",
        "outputId": "6b523eb1-9d4a-4bdb-adf2-262d5944b12e"
      },
      "source": [
        "df_test"
      ],
      "execution_count": null,
      "outputs": [
        {
          "output_type": "execute_result",
          "data": {
            "text/html": [
              "<div>\n",
              "<style scoped>\n",
              "    .dataframe tbody tr th:only-of-type {\n",
              "        vertical-align: middle;\n",
              "    }\n",
              "\n",
              "    .dataframe tbody tr th {\n",
              "        vertical-align: top;\n",
              "    }\n",
              "\n",
              "    .dataframe thead th {\n",
              "        text-align: right;\n",
              "    }\n",
              "</style>\n",
              "<table border=\"1\" class=\"dataframe\">\n",
              "  <thead>\n",
              "    <tr style=\"text-align: right;\">\n",
              "      <th></th>\n",
              "      <th>Date</th>\n",
              "      <th>Open</th>\n",
              "      <th>High</th>\n",
              "      <th>Low</th>\n",
              "      <th>Close</th>\n",
              "      <th>Adj Close</th>\n",
              "      <th>Volume</th>\n",
              "    </tr>\n",
              "  </thead>\n",
              "  <tbody>\n",
              "    <tr>\n",
              "      <th>11121</th>\n",
              "      <td>2010-03-03</td>\n",
              "      <td>10193.950195</td>\n",
              "      <td>10274.089844</td>\n",
              "      <td>10186.679688</td>\n",
              "      <td>10253.139648</td>\n",
              "      <td>10253.139648</td>\n",
              "      <td>120600.0</td>\n",
              "    </tr>\n",
              "    <tr>\n",
              "      <th>11122</th>\n",
              "      <td>2010-03-04</td>\n",
              "      <td>10255.690430</td>\n",
              "      <td>10263.480469</td>\n",
              "      <td>10134.370117</td>\n",
              "      <td>10145.719727</td>\n",
              "      <td>10145.719727</td>\n",
              "      <td>126300.0</td>\n",
              "    </tr>\n",
              "    <tr>\n",
              "      <th>11123</th>\n",
              "      <td>2010-03-05</td>\n",
              "      <td>10254.610352</td>\n",
              "      <td>10376.410156</td>\n",
              "      <td>10254.610352</td>\n",
              "      <td>10368.959961</td>\n",
              "      <td>10368.959961</td>\n",
              "      <td>129900.0</td>\n",
              "    </tr>\n",
              "    <tr>\n",
              "      <th>11124</th>\n",
              "      <td>2010-03-08</td>\n",
              "      <td>10538.120117</td>\n",
              "      <td>10586.969727</td>\n",
              "      <td>10514.280273</td>\n",
              "      <td>10585.919922</td>\n",
              "      <td>10585.919922</td>\n",
              "      <td>140500.0</td>\n",
              "    </tr>\n",
              "    <tr>\n",
              "      <th>11125</th>\n",
              "      <td>2010-03-09</td>\n",
              "      <td>10567.320313</td>\n",
              "      <td>10593.269531</td>\n",
              "      <td>10542.809570</td>\n",
              "      <td>10567.650391</td>\n",
              "      <td>10567.650391</td>\n",
              "      <td>110100.0</td>\n",
              "    </tr>\n",
              "    <tr>\n",
              "      <th>...</th>\n",
              "      <td>...</td>\n",
              "      <td>...</td>\n",
              "      <td>...</td>\n",
              "      <td>...</td>\n",
              "      <td>...</td>\n",
              "      <td>...</td>\n",
              "      <td>...</td>\n",
              "    </tr>\n",
              "    <tr>\n",
              "      <th>13897</th>\n",
              "      <td>2021-07-06</td>\n",
              "      <td>28677.949219</td>\n",
              "      <td>28748.230469</td>\n",
              "      <td>28587.609375</td>\n",
              "      <td>28643.210938</td>\n",
              "      <td>28643.210938</td>\n",
              "      <td>41700000.0</td>\n",
              "    </tr>\n",
              "    <tr>\n",
              "      <th>13898</th>\n",
              "      <td>2021-07-07</td>\n",
              "      <td>28262.400391</td>\n",
              "      <td>28434.990234</td>\n",
              "      <td>28161.750000</td>\n",
              "      <td>28366.949219</td>\n",
              "      <td>28366.949219</td>\n",
              "      <td>60300000.0</td>\n",
              "    </tr>\n",
              "    <tr>\n",
              "      <th>13899</th>\n",
              "      <td>2021-07-08</td>\n",
              "      <td>28332.630859</td>\n",
              "      <td>28366.759766</td>\n",
              "      <td>28118.029297</td>\n",
              "      <td>28118.029297</td>\n",
              "      <td>28118.029297</td>\n",
              "      <td>62200000.0</td>\n",
              "    </tr>\n",
              "    <tr>\n",
              "      <th>13900</th>\n",
              "      <td>2021-07-09</td>\n",
              "      <td>27739.419922</td>\n",
              "      <td>28000.019531</td>\n",
              "      <td>27419.400391</td>\n",
              "      <td>27940.419922</td>\n",
              "      <td>27940.419922</td>\n",
              "      <td>82300000.0</td>\n",
              "    </tr>\n",
              "    <tr>\n",
              "      <th>13901</th>\n",
              "      <td>2021-07-12</td>\n",
              "      <td>28412.699219</td>\n",
              "      <td>28595.119141</td>\n",
              "      <td>28405.599609</td>\n",
              "      <td>28580.779297</td>\n",
              "      <td>28580.779297</td>\n",
              "      <td>0.0</td>\n",
              "    </tr>\n",
              "  </tbody>\n",
              "</table>\n",
              "<p>2781 rows × 7 columns</p>\n",
              "</div>"
            ],
            "text/plain": [
              "            Date          Open  ...     Adj Close      Volume\n",
              "11121 2010-03-03  10193.950195  ...  10253.139648    120600.0\n",
              "11122 2010-03-04  10255.690430  ...  10145.719727    126300.0\n",
              "11123 2010-03-05  10254.610352  ...  10368.959961    129900.0\n",
              "11124 2010-03-08  10538.120117  ...  10585.919922    140500.0\n",
              "11125 2010-03-09  10567.320313  ...  10567.650391    110100.0\n",
              "...          ...           ...  ...           ...         ...\n",
              "13897 2021-07-06  28677.949219  ...  28643.210938  41700000.0\n",
              "13898 2021-07-07  28262.400391  ...  28366.949219  60300000.0\n",
              "13899 2021-07-08  28332.630859  ...  28118.029297  62200000.0\n",
              "13900 2021-07-09  27739.419922  ...  27940.419922  82300000.0\n",
              "13901 2021-07-12  28412.699219  ...  28580.779297         0.0\n",
              "\n",
              "[2781 rows x 7 columns]"
            ]
          },
          "metadata": {
            "tags": []
          },
          "execution_count": 55
        }
      ]
    },
    {
      "cell_type": "markdown",
      "metadata": {
        "id": "C5q7_mEOfi6x"
      },
      "source": [
        "Agar dapat diproses oleh model, kita perlu mengubah nilai-nilai dari dataframe ke dalam tipe data numpy array menggunakan atribut values.\n",
        "\n"
      ]
    },
    {
      "cell_type": "code",
      "metadata": {
        "colab": {
          "base_uri": "https://localhost:8080/"
        },
        "id": "O2sQCvp7KDIi",
        "outputId": "ddc3eae9-372e-4c64-ff24-4a71427c4b47"
      },
      "source": [
        "# Mengubah nilai kolom 'Open' pada DataFrame ke dalam tipe data numpy array\n",
        "training_set = df2.iloc[:, 1:2].values\n",
        "training_set"
      ],
      "execution_count": null,
      "outputs": [
        {
          "output_type": "execute_result",
          "data": {
            "text/plain": [
              "array([[ 1257.719971],\n",
              "       [ 1263.98999 ],\n",
              "       [ 1274.27002 ],\n",
              "       ...,\n",
              "       [28332.630859],\n",
              "       [27739.419922],\n",
              "       [28412.699219]])"
            ]
          },
          "metadata": {
            "tags": []
          },
          "execution_count": 56
        }
      ]
    },
    {
      "cell_type": "markdown",
      "metadata": {
        "id": "CT2Ay9S4fo11"
      },
      "source": [
        "#**Feature Scaling**\n",
        "Melakukan feature scaling yaitu suatu cara untuk membuat numerical data pada dataset memiliki rentang nilai (scale) yang sama. Biasa disebut juga normalisasi\n",
        "\n"
      ]
    },
    {
      "cell_type": "code",
      "metadata": {
        "colab": {
          "base_uri": "https://localhost:8080/"
        },
        "id": "uX5d0Z9SKF_K",
        "outputId": "93248b04-6c93-4901-a32d-5157c92c2df0"
      },
      "source": [
        "# Menormalisasikan nilai sample menjadi nilai dengan rentang 0 sampai 1 untuk dimasukkan ke dalam model\n",
        "sc = MinMaxScaler(feature_range = (0, 1))\n",
        "training_set_scaled = sc.fit_transform(training_set)\n",
        "training_set_scaled"
      ],
      "execution_count": null,
      "outputs": [
        {
          "output_type": "execute_result",
          "data": {
            "text/plain": [
              "array([[0.00625917],\n",
              "       [0.00642461],\n",
              "       [0.00669584],\n",
              "       ...,\n",
              "       [0.72061494],\n",
              "       [0.70496341],\n",
              "       [0.72272749]])"
            ]
          },
          "metadata": {
            "tags": []
          },
          "execution_count": 57
        }
      ]
    },
    {
      "cell_type": "markdown",
      "metadata": {
        "id": "msNkh_j0fxC9"
      },
      "source": [
        "#**Pembuatan Struktur Data**"
      ]
    },
    {
      "cell_type": "code",
      "metadata": {
        "colab": {
          "base_uri": "https://localhost:8080/"
        },
        "id": "61xZrfugKKia",
        "outputId": "db1f8917-e57c-44f5-b5bb-c164656e21d1"
      },
      "source": [
        "# Membuat data struktur dengan 60 selisih waktu and 1 output\n",
        "X_train = []\n",
        "y_train = []\n",
        "for i in range(60, 11122):\n",
        "    X_train.append(training_set_scaled[i-60:i, 0])  # Struktur untuk X_train\n",
        "    y_train.append(training_set_scaled[i, 0])       # Struktur untuk y_train\n",
        "X_train, y_train = np.array(X_train), np.array(y_train)\n",
        "print(len(X_train))\n",
        "print(len(y_train))"
      ],
      "execution_count": null,
      "outputs": [
        {
          "output_type": "stream",
          "text": [
            "11062\n",
            "11062\n"
          ],
          "name": "stdout"
        }
      ]
    },
    {
      "cell_type": "code",
      "metadata": {
        "colab": {
          "base_uri": "https://localhost:8080/"
        },
        "id": "J8A66pwKKNlC",
        "outputId": "edde0cf2-fbda-476f-f9b6-a4503fd03c39"
      },
      "source": [
        "# Reshaping data ke nilai 0 sampai 1\n",
        "X_train = np.reshape(X_train, (X_train.shape[0], X_train.shape[1], 1))\n",
        "X_train"
      ],
      "execution_count": null,
      "outputs": [
        {
          "output_type": "execute_result",
          "data": {
            "text/plain": [
              "array([[[0.00625917],\n",
              "        [0.00642461],\n",
              "        [0.00669584],\n",
              "        ...,\n",
              "        [0.00296244],\n",
              "        [0.00282551],\n",
              "        [0.00285163]],\n",
              "\n",
              "       [[0.00642461],\n",
              "        [0.00669584],\n",
              "        [0.00701667],\n",
              "        ...,\n",
              "        [0.00282551],\n",
              "        [0.00285163],\n",
              "        [0.00274292]],\n",
              "\n",
              "       [[0.00669584],\n",
              "        [0.00701667],\n",
              "        [0.00707234],\n",
              "        ...,\n",
              "        [0.00285163],\n",
              "        [0.00274292],\n",
              "        [0.00353287]],\n",
              "\n",
              "       ...,\n",
              "\n",
              "       [[0.21552586],\n",
              "        [0.21797039],\n",
              "        [0.22509338],\n",
              "        ...,\n",
              "        [0.24233192],\n",
              "        [0.24367618],\n",
              "        [0.23974439]],\n",
              "\n",
              "       [[0.21797039],\n",
              "        [0.22509338],\n",
              "        [0.22918902],\n",
              "        ...,\n",
              "        [0.24367618],\n",
              "        [0.23974439],\n",
              "        [0.24031562]],\n",
              "\n",
              "       [[0.22509338],\n",
              "        [0.22918902],\n",
              "        [0.23742679],\n",
              "        ...,\n",
              "        [0.23974439],\n",
              "        [0.24031562],\n",
              "        [0.24217467]]])"
            ]
          },
          "metadata": {
            "tags": []
          },
          "execution_count": 59
        }
      ]
    },
    {
      "cell_type": "code",
      "metadata": {
        "colab": {
          "base_uri": "https://localhost:8080/"
        },
        "id": "D1qTWjF_KP58",
        "outputId": "381e2901-c3e7-44a4-9c3d-46300c83724c"
      },
      "source": [
        "len(X_train)"
      ],
      "execution_count": null,
      "outputs": [
        {
          "output_type": "execute_result",
          "data": {
            "text/plain": [
              "11062"
            ]
          },
          "metadata": {
            "tags": []
          },
          "execution_count": 60
        }
      ]
    },
    {
      "cell_type": "code",
      "metadata": {
        "colab": {
          "base_uri": "https://localhost:8080/"
        },
        "id": "Rtl4vZvJKUFs",
        "outputId": "7371c303-c352-4ab7-8b11-7c6a8d225433"
      },
      "source": [
        "# Membuat kelas dan fungsi agar proses training berhenti saat Koefisien Determinasi model telah mencapai 98%\n",
        "class myCallBack(tf.keras.callbacks.Callback):\n",
        "  def on_epoch_end(self, epoch, logs={}):\n",
        "    if(logs.get('r2_keras') >= 0.90):\n",
        "      print(\"\\nKoefisien Determinasi telah mencapai > 90%!\")\n",
        "      self.model.stop_training = True\n",
        "myCallBack = myCallBack()\n",
        "# Fungsi untuk menyimpan model\n",
        "save_direc = os.path.join(os.getcwd(), '/content/sample_data')\n",
        "\n",
        "model_name = 'Nikkei-LSTM_weight_model.h5'\n",
        "\n",
        "# Membuat directory untuk menyimpan model\n",
        "if not os.path.isdir(save_direc):\n",
        "    os.makedirs(save_direc)\n",
        "\n",
        "# Menggabungkan directory dengan model\n",
        "modelpath = os.path.join(save_direc, model_name)\n",
        "\n",
        "checkpoint = ModelCheckpoint(filepath = modelpath, monitor = 'mae', verbose = 1, save_best_only = True, \n",
        "                             save_weights_only = True, period=1)"
      ],
      "execution_count": null,
      "outputs": [
        {
          "output_type": "stream",
          "text": [
            "WARNING:tensorflow:`period` argument is deprecated. Please use `save_freq` to specify the frequency in number of batches seen.\n"
          ],
          "name": "stdout"
        }
      ]
    },
    {
      "cell_type": "markdown",
      "metadata": {
        "id": "EqoOtsBCgM_w"
      },
      "source": [
        "Koefisien determinasi digunakan sebagai informasi mengenai kecocokan suatu model dan dihitung untuk mengetahui sejauh mana kecocokan sejumlah variabel bebas yang ada dalam sebuah model persamaan regresi linier berganda secara berbarengan mampu menjelaskan variabel tidak bebasnya.\n",
        "\n",
        "Nilai koefisien determinasi sendiri berada di rentang nol sampai satu. Suatu nilai ini bisa dikatakan ‘baik’ jika ia berada di atas angka 0,5, sebaliknya suatu nilai koefisien determinasi dibilang ‘tidak baik’ jika di bawah 0,5."
      ]
    },
    {
      "cell_type": "code",
      "metadata": {
        "id": "VKn7cVxvKZSG"
      },
      "source": [
        "# Membuat fungsi untuk koefisien determinasi yang akan digunakan ke dalam model\n",
        "def r2_keras(y_true, y_pred):\n",
        "    SS_res =  K.sum(K.square( y_true - y_pred ))\n",
        "    SS_tot = K.sum(K.square( y_true - K.mean(y_true) ) )\n",
        "    return ( 1 - SS_res/(SS_tot + K.epsilon()) )"
      ],
      "execution_count": null,
      "outputs": []
    },
    {
      "cell_type": "markdown",
      "metadata": {
        "id": "3z3EPVCXgQDz"
      },
      "source": [
        "Arsitektur model menggunakan 4 layer LSTM dengan dimensi sebesar 50 pada masing-masing layer, serta 0.2/20% dropout pada setiap layer LSTM agar model tidak overfitting.\n",
        "\n"
      ]
    },
    {
      "cell_type": "code",
      "metadata": {
        "colab": {
          "base_uri": "https://localhost:8080/"
        },
        "id": "DJ0r0wZxKbn_",
        "outputId": "ce3a3f5a-188b-41a4-a9b7-ac8b71451604"
      },
      "source": [
        "model = tf.keras.models.Sequential([\n",
        "  tf.keras.layers.LSTM(50, return_sequences=True, input_shape = (X_train.shape[1], 1)), # Menambahkan layer LSTM pertama\n",
        "  tf.keras.layers.Dropout(0.2), # Menggunakan dropout agar model tidak overfitting\n",
        "  tf.keras.layers.LSTM(50, return_sequences=True), # Menambahkan layer LSTM kedua\n",
        "  tf.keras.layers.Dropout(0.2), # Menggunakan dropout agar model tidak overfitting\n",
        "  tf.keras.layers.LSTM(50, return_sequences=True), # Menambahkan layer LSTM ketiga\n",
        "  tf.keras.layers.Dropout(0.2), # Menggunakan dropout agar model tidak overfitting\n",
        "  tf.keras.layers.LSTM(50), # Menambahkan layer LSTM keempat\n",
        "  tf.keras.layers.Dropout(0.2), # Menggunakan dropout agar model tidak overfitting\n",
        "  tf.keras.layers.Dense(1), # Outputnya adalah 1 \n",
        "])\n",
        "model.summary() # Melihat shape dan parameter model"
      ],
      "execution_count": null,
      "outputs": [
        {
          "output_type": "stream",
          "text": [
            "Model: \"sequential_1\"\n",
            "_________________________________________________________________\n",
            "Layer (type)                 Output Shape              Param #   \n",
            "=================================================================\n",
            "lstm_4 (LSTM)                (None, 60, 50)            10400     \n",
            "_________________________________________________________________\n",
            "dropout_4 (Dropout)          (None, 60, 50)            0         \n",
            "_________________________________________________________________\n",
            "lstm_5 (LSTM)                (None, 60, 50)            20200     \n",
            "_________________________________________________________________\n",
            "dropout_5 (Dropout)          (None, 60, 50)            0         \n",
            "_________________________________________________________________\n",
            "lstm_6 (LSTM)                (None, 60, 50)            20200     \n",
            "_________________________________________________________________\n",
            "dropout_6 (Dropout)          (None, 60, 50)            0         \n",
            "_________________________________________________________________\n",
            "lstm_7 (LSTM)                (None, 50)                20200     \n",
            "_________________________________________________________________\n",
            "dropout_7 (Dropout)          (None, 50)                0         \n",
            "_________________________________________________________________\n",
            "dense_1 (Dense)              (None, 1)                 51        \n",
            "=================================================================\n",
            "Total params: 71,051\n",
            "Trainable params: 71,051\n",
            "Non-trainable params: 0\n",
            "_________________________________________________________________\n"
          ],
          "name": "stdout"
        }
      ]
    },
    {
      "cell_type": "code",
      "metadata": {
        "colab": {
          "base_uri": "https://localhost:8080/"
        },
        "id": "ZRO0IXfYKfTe",
        "outputId": "6c93cc24-f160-4492-f6fe-3ad6a46b617c"
      },
      "source": [
        "model.compile(loss='mean_squared_error', optimizer=RMSprop(learning_rate=0.001), # Menggunakan optimizer RMSprop dengan learning rate 0.001\n",
        "              metrics=[r2_keras, 'mae']) # Menggunakan metric r2 dan mae\n",
        "# Proses Training Model LSTM\n",
        "history = model.fit(X_train, y_train, epochs = 100, \n",
        "                    batch_size = 128, callbacks=[myCallBack, checkpoint], verbose = 1)"
      ],
      "execution_count": null,
      "outputs": [
        {
          "output_type": "stream",
          "text": [
            "Epoch 1/100\n",
            "87/87 [==============================] - 26s 219ms/step - loss: 0.0092 - r2_keras: 0.7928 - mae: 0.0633\n",
            "\n",
            "Epoch 00001: mae improved from inf to 0.06329, saving model to /content/sample_data/Nikkei-LSTM_weight_model.h5\n",
            "Epoch 2/100\n",
            "87/87 [==============================] - 19s 217ms/step - loss: 0.0038 - r2_keras: 0.9185 - mae: 0.0415\n",
            "\n",
            "Koefisien Determinasi telah mencapai > 90%!\n",
            "\n",
            "Epoch 00002: mae improved from 0.06329 to 0.04146, saving model to /content/sample_data/Nikkei-LSTM_weight_model.h5\n"
          ],
          "name": "stdout"
        }
      ]
    },
    {
      "cell_type": "code",
      "metadata": {
        "colab": {
          "base_uri": "https://localhost:8080/",
          "height": 585
        },
        "id": "sexuDvNQKh-P",
        "outputId": "c7aa658c-2c25-42c8-ccc7-2842d82cdc2b"
      },
      "source": [
        "# Menampilkan plot loss dari model\n",
        "plt.plot(history.history['loss'])\n",
        "plt.title('Model Loss')\n",
        "plt.ylabel('Loss')\n",
        "plt.xlabel('Epochs')\n",
        "plt.legend('loss')\n",
        "plt.show()\n",
        "# Menampilkan plot mae dari model\n",
        "plt.plot(history.history['mae'])\n",
        "plt.title('Model MAE')\n",
        "plt.ylabel('MAE')\n",
        "plt.xlabel('Epochs')\n",
        "plt.legend('mae')\n",
        "plt.show()"
      ],
      "execution_count": null,
      "outputs": [
        {
          "output_type": "display_data",
          "data": {
            "image/png": "[encoded data removed]",
            "text/plain": [
              "<Figure size 432x288 with 1 Axes>"
            ]
          },
          "metadata": {
            "tags": []
          }
        },
        {
          "output_type": "display_data",
          "data": {
            "image/png": "[encoded data removed]",
            "text/plain": [
              "<Figure size 432x288 with 1 Axes>"
            ]
          },
          "metadata": {
            "tags": []
          }
        }
      ]
    },
    {
      "cell_type": "markdown",
      "metadata": {
        "id": "iboU8yvPgWL4"
      },
      "source": [
        "#**Prediksi Model LSTM**\n",
        "Untuk membuktikan model LSTM bagus atau tidak, maka saya berinsiatif untuk melakukan prediksi terhadap data test dan train\n",
        "\n"
      ]
    },
    {
      "cell_type": "code",
      "metadata": {
        "colab": {
          "base_uri": "https://localhost:8080/"
        },
        "id": "mFKu_2NHKoIb",
        "outputId": "daef26de-7aad-4a61-f858-4203d8857f35"
      },
      "source": [
        "# Melakukan duplikasi pada Dataset test dan train dan mengubah menjadi numpy array \n",
        "dataset_test = df_test.copy()\n",
        "dataset_train = df_train.copy()\n",
        "real_stock_price = dataset_test.iloc[:, 1:2].values\n",
        "real_stock_price1 = dataset_train.iloc[60:, 1:2].values\n",
        "dataset_total = pd.concat((df_train['Open'], dataset_test['Open']), axis = 0)\n",
        "inputs = dataset_total[len(dataset_total) - len(dataset_test) - 60:].values\n",
        "inputs = inputs.reshape(-1,1)\n",
        "inputs = sc.transform(inputs)\n",
        "\n",
        "print('Panjang data total :', len(dataset_total))\n",
        "print('Panjang data test :', len(dataset_test))\n",
        "print('Panjang data train :', len(df_train))"
      ],
      "execution_count": null,
      "outputs": [
        {
          "output_type": "stream",
          "text": [
            "Panjang data total : 13903\n",
            "Panjang data test : 2781\n",
            "Panjang data train : 11122\n"
          ],
          "name": "stdout"
        }
      ]
    },
    {
      "cell_type": "code",
      "metadata": {
        "colab": {
          "base_uri": "https://localhost:8080/"
        },
        "id": "_fpYeD7AKthY",
        "outputId": "f1d713f3-65c3-4122-e6e3-c6b8a33f7a70"
      },
      "source": [
        "inputs1 = df_train.Open.values\n",
        "inputs1 = inputs1.reshape(-1,1)\n",
        "inputs1 = sc.transform(inputs1)\n",
        "\n",
        "print(len(inputs))\n",
        "print(len(inputs1))"
      ],
      "execution_count": null,
      "outputs": [
        {
          "output_type": "stream",
          "text": [
            "2841\n",
            "11122\n"
          ],
          "name": "stdout"
        }
      ]
    },
    {
      "cell_type": "markdown",
      "metadata": {
        "id": "slWONGr3gcVw"
      },
      "source": [
        "Memasukkan nilai dari data test ke dalam X_test dan data train ke dalam X_test1 lalu mereshape nilai tersebut ke dalam nilai dari 0 sampai 1\n",
        "\n"
      ]
    },
    {
      "cell_type": "code",
      "metadata": {
        "colab": {
          "base_uri": "https://localhost:8080/"
        },
        "id": "hXD10phxKvaF",
        "outputId": "bf881f61-33ef-4b09-e7b8-460eaef6f4be"
      },
      "source": [
        "X_test = []\n",
        "for i in range(60, 2841):\n",
        "    X_test.append(inputs[i-60:i, 0])\n",
        "X_test = np.array(X_test)\n",
        "X_test = np.reshape(X_test, (X_test.shape[0], X_test.shape[1], 1))\n",
        "\n",
        "X_test1 = []\n",
        "for i in range(60,11122):\n",
        "    X_test1.append(inputs1[i-60:i, 0])\n",
        "X_test1 = np.array(X_test1)\n",
        "X_test1 = np.reshape(X_test1, (X_test1.shape[0], X_test1.shape[1], 1))\n",
        "\n",
        "print(len(X_test))\n",
        "print(len(X_test1))"
      ],
      "execution_count": null,
      "outputs": [
        {
          "output_type": "stream",
          "text": [
            "2781\n",
            "11062\n"
          ],
          "name": "stdout"
        }
      ]
    },
    {
      "cell_type": "code",
      "metadata": {
        "colab": {
          "base_uri": "https://localhost:8080/"
        },
        "id": "l-QFbwUGKyQ7",
        "outputId": "61b88525-bc9b-47cf-f471-3af1a2bc6f91"
      },
      "source": [
        "# Menggunakan model untuk memprediksi nilai data test\n",
        "predicted_stock_price = model.predict(X_test)\n",
        "predicted_stock_price = sc.inverse_transform(predicted_stock_price)\n",
        "predicted_stock_price"
      ],
      "execution_count": null,
      "outputs": [
        {
          "output_type": "execute_result",
          "data": {
            "text/plain": [
              "array([[10378.173],\n",
              "       [10371.856],\n",
              "       [10366.716],\n",
              "       ...,\n",
              "       [29491.502],\n",
              "       [29481.254],\n",
              "       [29464.818]], dtype=float32)"
            ]
          },
          "metadata": {
            "tags": []
          },
          "execution_count": 69
        }
      ]
    },
    {
      "cell_type": "code",
      "metadata": {
        "colab": {
          "base_uri": "https://localhost:8080/"
        },
        "id": "DAO_Tu_HK0RH",
        "outputId": "1a86f91f-3b2d-476d-b769-d1a25a84b5de"
      },
      "source": [
        "# Menggunakan model untuk memprediksi nilai data train\n",
        "predicted_stock_price1 = model.predict(X_test1)\n",
        "predicted_stock_price1 = sc.inverse_transform(predicted_stock_price1)\n",
        "predicted_stock_price1"
      ],
      "execution_count": null,
      "outputs": [
        {
          "output_type": "execute_result",
          "data": {
            "text/plain": [
              "array([[ 1104.9604],\n",
              "       [ 1102.0339],\n",
              "       [ 1099.013 ],\n",
              "       ...,\n",
              "       [10406.192 ],\n",
              "       [10394.968 ],\n",
              "       [10385.768 ]], dtype=float32)"
            ]
          },
          "metadata": {
            "tags": []
          },
          "execution_count": 70
        }
      ]
    },
    {
      "cell_type": "code",
      "metadata": {
        "colab": {
          "base_uri": "https://localhost:8080/"
        },
        "id": "KLlYr4W4K4U9",
        "outputId": "669f43cd-3295-4954-a981-0861d97bbb67"
      },
      "source": [
        "print('Dimensi real data test :', real_stock_price.shape)\n",
        "print('Dimensi prediksi data test :', predicted_stock_price.shape)\n",
        "print('Dimensi real data train :', real_stock_price1.shape)\n",
        "print('Dimensi prediksi data train :', predicted_stock_price1.shape)\n"
      ],
      "execution_count": null,
      "outputs": [
        {
          "output_type": "stream",
          "text": [
            "Dimensi real data test : (2781, 1)\n",
            "Dimensi prediksi data test : (2781, 1)\n",
            "Dimensi real data train : (11062, 1)\n",
            "Dimensi prediksi data train : (11062, 1)\n"
          ],
          "name": "stdout"
        }
      ]
    },
    {
      "cell_type": "code",
      "metadata": {
        "colab": {
          "base_uri": "https://localhost:8080/",
          "height": 204
        },
        "id": "fC5QSVh6LAQk",
        "outputId": "62408fda-db24-4e1d-83b0-c151ef11c390"
      },
      "source": [
        "# Memasukkan nilai asli data test dan prediksinya ke dalam dataframe\n",
        "pred = pd.DataFrame(list(zip(predicted_stock_price,real_stock_price)), \n",
        "                  columns = ('Predict','Real'))\n",
        "pred.head()"
      ],
      "execution_count": null,
      "outputs": [
        {
          "output_type": "execute_result",
          "data": {
            "text/html": [
              "<div>\n",
              "<style scoped>\n",
              "    .dataframe tbody tr th:only-of-type {\n",
              "        vertical-align: middle;\n",
              "    }\n",
              "\n",
              "    .dataframe tbody tr th {\n",
              "        vertical-align: top;\n",
              "    }\n",
              "\n",
              "    .dataframe thead th {\n",
              "        text-align: right;\n",
              "    }\n",
              "</style>\n",
              "<table border=\"1\" class=\"dataframe\">\n",
              "  <thead>\n",
              "    <tr style=\"text-align: right;\">\n",
              "      <th></th>\n",
              "      <th>Predict</th>\n",
              "      <th>Real</th>\n",
              "    </tr>\n",
              "  </thead>\n",
              "  <tbody>\n",
              "    <tr>\n",
              "      <th>0</th>\n",
              "      <td>[10378.173]</td>\n",
              "      <td>[10193.950195]</td>\n",
              "    </tr>\n",
              "    <tr>\n",
              "      <th>1</th>\n",
              "      <td>[10371.856]</td>\n",
              "      <td>[10255.69043]</td>\n",
              "    </tr>\n",
              "    <tr>\n",
              "      <th>2</th>\n",
              "      <td>[10366.716]</td>\n",
              "      <td>[10254.610352]</td>\n",
              "    </tr>\n",
              "    <tr>\n",
              "      <th>3</th>\n",
              "      <td>[10362.719]</td>\n",
              "      <td>[10538.120117]</td>\n",
              "    </tr>\n",
              "    <tr>\n",
              "      <th>4</th>\n",
              "      <td>[10360.492]</td>\n",
              "      <td>[10567.320313]</td>\n",
              "    </tr>\n",
              "  </tbody>\n",
              "</table>\n",
              "</div>"
            ],
            "text/plain": [
              "       Predict            Real\n",
              "0  [10378.173]  [10193.950195]\n",
              "1  [10371.856]   [10255.69043]\n",
              "2  [10366.716]  [10254.610352]\n",
              "3  [10362.719]  [10538.120117]\n",
              "4  [10360.492]  [10567.320313]"
            ]
          },
          "metadata": {
            "tags": []
          },
          "execution_count": 72
        }
      ]
    },
    {
      "cell_type": "code",
      "metadata": {
        "colab": {
          "base_uri": "https://localhost:8080/",
          "height": 204
        },
        "id": "rPAr6VXTLBH1",
        "outputId": "c57f4a49-2751-40a2-fcff-c5a28bfcaaeb"
      },
      "source": [
        "# Memasukkan nilai asli data train dan prediksinya ke dalam dataframe\n",
        "pred1 = pd.DataFrame(list(zip(predicted_stock_price1,real_stock_price1)), \n",
        "                  columns = ('Predict','Real'))\n",
        "pred1.head()"
      ],
      "execution_count": null,
      "outputs": [
        {
          "output_type": "execute_result",
          "data": {
            "text/html": [
              "<div>\n",
              "<style scoped>\n",
              "    .dataframe tbody tr th:only-of-type {\n",
              "        vertical-align: middle;\n",
              "    }\n",
              "\n",
              "    .dataframe tbody tr th {\n",
              "        vertical-align: top;\n",
              "    }\n",
              "\n",
              "    .dataframe thead th {\n",
              "        text-align: right;\n",
              "    }\n",
              "</style>\n",
              "<table border=\"1\" class=\"dataframe\">\n",
              "  <thead>\n",
              "    <tr style=\"text-align: right;\">\n",
              "      <th></th>\n",
              "      <th>Predict</th>\n",
              "      <th>Real</th>\n",
              "    </tr>\n",
              "  </thead>\n",
              "  <tbody>\n",
              "    <tr>\n",
              "      <th>0</th>\n",
              "      <td>[1104.9604]</td>\n",
              "      <td>[1124.449951]</td>\n",
              "    </tr>\n",
              "    <tr>\n",
              "      <th>1</th>\n",
              "      <td>[1102.0339]</td>\n",
              "      <td>[1154.390015]</td>\n",
              "    </tr>\n",
              "    <tr>\n",
              "      <th>2</th>\n",
              "      <td>[1099.013]</td>\n",
              "      <td>[1159.97998]</td>\n",
              "    </tr>\n",
              "    <tr>\n",
              "      <th>3</th>\n",
              "      <td>[1095.9901]</td>\n",
              "      <td>[1183.119995]</td>\n",
              "    </tr>\n",
              "    <tr>\n",
              "      <th>4</th>\n",
              "      <td>[1093.1134]</td>\n",
              "      <td>[1180.569946]</td>\n",
              "    </tr>\n",
              "  </tbody>\n",
              "</table>\n",
              "</div>"
            ],
            "text/plain": [
              "       Predict           Real\n",
              "0  [1104.9604]  [1124.449951]\n",
              "1  [1102.0339]  [1154.390015]\n",
              "2   [1099.013]   [1159.97998]\n",
              "3  [1095.9901]  [1183.119995]\n",
              "4  [1093.1134]  [1180.569946]"
            ]
          },
          "metadata": {
            "tags": []
          },
          "execution_count": 73
        }
      ]
    },
    {
      "cell_type": "markdown",
      "metadata": {
        "id": "pLn0BYLdghkU"
      },
      "source": [
        "#**Evaluasi Model**\n",
        "Evaluasi model menggunakan Mean Absolute Error dan Mean Absolute Percentage Error\n",
        "\n"
      ]
    },
    {
      "cell_type": "code",
      "metadata": {
        "colab": {
          "base_uri": "https://localhost:8080/"
        },
        "id": "sAMh8lDYLFOy",
        "outputId": "a423b103-86b5-4f80-a654-7ef5f2776a4f"
      },
      "source": [
        "# Membuat fungsi untuk MAPE dan MAE\n",
        "def mape(y_true, y_pred):\n",
        "    y_true, y_pred = np.array(y_true), np.array(y_pred)\n",
        "    return np.mean(np.abs((y_true - y_pred) / y_true)) * 100\n",
        "\n",
        "def mae(y_true, y_pred):\n",
        "    y_true, y_pred = np.array(y_true), np.array(y_pred)\n",
        "    return np.mean(np.abs((y_true - y_pred) / y_true))\n",
        "print('Nilai Koefisien Determinasi terhadap Data Test\\nR2: ',r2_score(predicted_stock_price,real_stock_price),'\\n')\n",
        "\n",
        "mape1 = mae(predicted_stock_price,real_stock_price)\n",
        "print('Nilai Mean Absolute Error Prediksi terhadap Data Test\\nMAPE: ' \"{:.2f}\".format(mape1),'\\n')\n",
        "\n",
        "mape2 = mape(predicted_stock_price,real_stock_price)\n",
        "print('Nilai Mean Absolute Percentage Error Prediksi terhadap Data Test\\nMAPE: ' \"{:.2f}\".format(mape2)+'%')"
      ],
      "execution_count": null,
      "outputs": [
        {
          "output_type": "stream",
          "text": [
            "Nilai Koefisien Determinasi terhadap Data Test\n",
            "R2:  0.9794687928402003 \n",
            "\n",
            "Nilai Mean Absolute Error Prediksi terhadap Data Test\n",
            "MAPE: 0.03 \n",
            "\n",
            "Nilai Mean Absolute Percentage Error Prediksi terhadap Data Test\n",
            "MAPE: 3.43%\n"
          ],
          "name": "stdout"
        }
      ]
    },
    {
      "cell_type": "code",
      "metadata": {
        "colab": {
          "base_uri": "https://localhost:8080/"
        },
        "id": "MiT-yYb5LIIS",
        "outputId": "9c8d15bb-fb91-43bd-c861-213a27293730"
      },
      "source": [
        "print('Nilai Koefisien Determinasi terhadap Data Train\\nR2: ',r2_score(predicted_stock_price1,real_stock_price1),'\\n')\n",
        "\n",
        "mape1 = mae(predicted_stock_price1,real_stock_price1)\n",
        "print('Nilai Mean Absolute Error Prediksi terhadap Data Train\\nMAPE: ' \"{:.2f}\".format(mape1),'\\n')\n",
        "\n",
        "mape2 = mape(predicted_stock_price1,real_stock_price1)\n",
        "print('Nilai Mean Percentage Error Prediksi terhadap Data Train\\nMAPE: ' \"{:.2f}\".format(mape2)+'%')"
      ],
      "execution_count": null,
      "outputs": [
        {
          "output_type": "stream",
          "text": [
            "Nilai Koefisien Determinasi terhadap Data Train\n",
            "R2:  0.9927353575263383 \n",
            "\n",
            "Nilai Mean Absolute Error Prediksi terhadap Data Train\n",
            "MAPE: 0.04 \n",
            "\n",
            "Nilai Mean Percentage Error Prediksi terhadap Data Train\n",
            "MAPE: 3.94%\n"
          ],
          "name": "stdout"
        }
      ]
    },
    {
      "cell_type": "markdown",
      "metadata": {
        "id": "0RvnnPcSgpZq"
      },
      "source": [
        "#**Visualisasi Hasil Prediksi Model**\n",
        "Membuat visualisasi dengan diagram pencar dan diagram garis untuk memudahkan pembaca untuk melihat hasil prediksi\n",
        "\n",
        "\n",
        "\n"
      ]
    },
    {
      "cell_type": "code",
      "metadata": {
        "colab": {
          "base_uri": "https://localhost:8080/",
          "height": 474
        },
        "id": "KPI59I1MLNXt",
        "outputId": "0df3c686-0a0c-483e-a546-7083772555fe"
      },
      "source": [
        "# Membuat diagram pencar untuk memperlihatkan ke akuratan hasil prediksi dan nilai real pada dataset\n",
        "# Data prediksi vs data test\n",
        "\n",
        "plt.figure(figsize=(15,7))\n",
        "plt.scatter(x=predicted_stock_price,y=real_stock_price,s=3,color='limegreen')\n",
        "plt.xlabel('predictions',fontsize=18)\n",
        "plt.ylabel('real',fontsize=18)\n",
        "plt.title('Data prediksi vs data test',fontsize=20)\n",
        "plt.show()"
      ],
      "execution_count": null,
      "outputs": [
        {
          "output_type": "display_data",
          "data": {
            "image/png": "[encoded data removed]",
            "text/plain": [
              "<Figure size 1080x504 with 1 Axes>"
            ]
          },
          "metadata": {
            "tags": []
          }
        }
      ]
    },
    {
      "cell_type": "code",
      "metadata": {
        "colab": {
          "base_uri": "https://localhost:8080/",
          "height": 474
        },
        "id": "nyGAUHSILQtT",
        "outputId": "9121f804-b493-43ea-9a28-81528faa062c"
      },
      "source": [
        "# Membuat diagram pencar untuk memperlihatkan ke akuratan hasil prediksi dan nilai real pada dataset\n",
        "# Data prediksi vs data train\n",
        "\n",
        "plt.figure(figsize=(15,7))\n",
        "plt.scatter(x=predicted_stock_price1,y=real_stock_price1,s=3,color='limegreen')\n",
        "plt.xlabel('predictions',fontsize=18)\n",
        "plt.ylabel('real',fontsize=18)\n",
        "plt.title('Data prediksi vs data train',fontsize=20)\n",
        "plt.show()\n"
      ],
      "execution_count": null,
      "outputs": [
        {
          "output_type": "display_data",
          "data": {
            "image/png": "[encoded data removed]",
            "text/plain": [
              "<Figure size 1080x504 with 1 Axes>"
            ]
          },
          "metadata": {
            "tags": []
          }
        }
      ]
    },
    {
      "cell_type": "code",
      "metadata": {
        "colab": {
          "base_uri": "https://localhost:8080/",
          "height": 466
        },
        "id": "SJ4iqeDDLXU1",
        "outputId": "a2018f42-a195-4ea8-8dc1-5e81dd3eec8a"
      },
      "source": [
        "# Membuat diagram garis untuk memperlihatkan ke akuratan hasil prediksi dan nilai real pada dataset\n",
        "# Data prediksi vs data train\n",
        "\n",
        "plt.figure(figsize=(15,7))\n",
        "plt.plot(real_stock_price1, color = 'palevioletred', label = 'Real Harga Index Nikkei 225')\n",
        "plt.plot(predicted_stock_price1, color = 'limegreen', label = 'Prediksi Harga Index Nikkei 225')\n",
        "plt.title('Prediksi Index Nikkei 225 vs Data Test',fontsize = 16)\n",
        "plt.xlabel('Time')\n",
        "plt.ylabel('Nikkei 225 Stock Price')\n",
        "plt.legend()\n",
        "plt.show()"
      ],
      "execution_count": null,
      "outputs": [
        {
          "output_type": "display_data",
          "data": {
            "image/png": "[encoded data removed]",
            "text/plain": [
              "<Figure size 1080x504 with 1 Axes>"
            ]
          },
          "metadata": {
            "tags": []
          }
        }
      ]
    }
  ]
}